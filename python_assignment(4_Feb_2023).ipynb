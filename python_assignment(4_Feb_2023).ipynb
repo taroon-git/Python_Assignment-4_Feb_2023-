{
 "cells": [
  {
   "cell_type": "code",
   "execution_count": 38,
   "id": "7223da9c-06c4-4366-8806-4a2461c0eb7c",
   "metadata": {},
   "outputs": [
    {
     "name": "stdout",
     "output_type": "stream",
     "text": [
      "[('Virat Kohli', 24936), ('Jack Kallis', 25534), ('Ricky Ponting', 27483), ('Sachin Tendulkar', 34357)]\n"
     ]
    }
   ],
   "source": [
    "# Q:1 Create a python program to sort the given list of tuples based on integers value using a \n",
    "    # lambda functinons\n",
    "    \n",
    "unsort_list = [('Sachin Tendulkar',34357 ),('Ricky Ponting',27483),('Jack Kallis',25534),('Virat Kohli', 24936)]\n",
    "unsort_list.sort(key = lambda x : x[1])\n",
    "print(unsort_list)\n"
   ]
  },
  {
   "cell_type": "code",
   "execution_count": null,
   "id": "545a321a-ebcf-4afd-a14a-6d83f15735c1",
   "metadata": {},
   "outputs": [],
   "source": [
    "# Q:2 Write a python program to find the squares of all the numbers in the given list of \n",
    "#    integers using lambda and map functions [ 1,2,3,4,5,6,7,8,9,10]\n",
    "\n",
    "\n",
    "l1 = [ 1,2,3,4,5,6,7,8,9,10]\n",
    "sq = lambda x : x**2"
   ]
  },
  {
   "cell_type": "code",
   "execution_count": 17,
   "id": "1643e2c3-8837-4e28-9aee-9315166924e8",
   "metadata": {},
   "outputs": [
    {
     "data": {
      "text/plain": [
       "[1, 4, 9, 16, 25, 36, 49, 64, 81, 100]"
      ]
     },
     "execution_count": 17,
     "metadata": {},
     "output_type": "execute_result"
    }
   ],
   "source": [
    "list(map(sq,l1))"
   ]
  },
  {
   "cell_type": "code",
   "execution_count": 4,
   "id": "4227c80f-1a5c-4e68-a6cd-e2b259c1bd98",
   "metadata": {},
   "outputs": [
    {
     "name": "stdout",
     "output_type": "stream",
     "text": [
      "('1', '2', '3', '4', '5', '6', '7', '8', '9', '10')\n"
     ]
    }
   ],
   "source": [
    "# Q:3 Write a python program to convert the given list of integers into a tuple of strings. Use\n",
    "#    map and lambda functions\n",
    "\n",
    "G_str = [1,2,3,4,5,6,7,8,9,10]\n",
    "# Ex_out = ('1','2','3','4','5','6','7','8','9','10')\n",
    "\n",
    "Ex_out = tuple(map(lambda x : str(x),G_str))\n",
    "\n",
    "print(Ex_out)"
   ]
  },
  {
   "cell_type": "code",
   "execution_count": 2,
   "id": "26fe8a75-71c2-4d4f-9653-22b43d49ab75",
   "metadata": {},
   "outputs": [],
   "source": [
    "#Q:4 Write a python program using reduce function to compute th product of a list containing numbers \n",
    "    # from 1 to 25"
   ]
  },
  {
   "cell_type": "code",
   "execution_count": 6,
   "id": "8269fa2c-b33d-4536-a8ce-63520f41b122",
   "metadata": {},
   "outputs": [],
   "source": [
    "from functools import reduce "
   ]
  },
  {
   "cell_type": "code",
   "execution_count": 17,
   "id": "41e86bcc-342f-41d5-8162-e97a1da27578",
   "metadata": {},
   "outputs": [
    {
     "name": "stdout",
     "output_type": "stream",
     "text": [
      "[1, 2, 3, 4, 5, 6, 7, 8, 9, 10, 11, 12, 13, 14, 15, 16, 17, 18, 19, 20, 21, 22, 23, 24, 25]\n"
     ]
    }
   ],
   "source": [
    "nums = range(1,26)\n",
    "print(list(nums))"
   ]
  },
  {
   "cell_type": "code",
   "execution_count": 19,
   "id": "3ba03a89-1b64-46d5-9da7-2fd0816fbee3",
   "metadata": {},
   "outputs": [
    {
     "data": {
      "text/plain": [
       "15511210043330985984000000"
      ]
     },
     "execution_count": 19,
     "metadata": {},
     "output_type": "execute_result"
    }
   ],
   "source": [
    "reduce(lambda x , y : x*y , nums)"
   ]
  },
  {
   "cell_type": "code",
   "execution_count": 21,
   "id": "5b9dfb63-ed7f-430d-8a77-a280a0ec18bb",
   "metadata": {},
   "outputs": [],
   "source": [
    "#Q:5 Write a python program to filter the numbers in a given list that are divisible by 2 and 3 \n",
    "    # using the filter function\n",
    "    \n",
    "Given_list = [2,3,9,27,60,90,120,55,46]\n"
   ]
  },
  {
   "cell_type": "code",
   "execution_count": 23,
   "id": "e71a4526-ffb2-4319-be0d-8f3749b9cc1c",
   "metadata": {},
   "outputs": [
    {
     "data": {
      "text/plain": [
       "[60, 90, 120]"
      ]
     },
     "execution_count": 23,
     "metadata": {},
     "output_type": "execute_result"
    }
   ],
   "source": [
    "list(filter(lambda x : x%6==0 , Given_list))"
   ]
  },
  {
   "cell_type": "code",
   "execution_count": 27,
   "id": "6f364178-6563-4b09-a1e5-064bab046769",
   "metadata": {},
   "outputs": [
    {
     "data": {
      "text/plain": [
       "['php', 'aba', 'radar', 'level']"
      ]
     },
     "execution_count": 27,
     "metadata": {},
     "output_type": "execute_result"
    }
   ],
   "source": [
    "#Q:6 Write a python program to find palindromes in the given list of strings using lambda and \n",
    "    # filter function.\n",
    "avail_list = ['python','php','aba','radar','level']\n",
    "list(filter(lambda x : x == \"\".join(reversed(x)) , avail_list))"
   ]
  }
 ],
 "metadata": {
  "kernelspec": {
   "display_name": "Python 3 (ipykernel)",
   "language": "python",
   "name": "python3"
  },
  "language_info": {
   "codemirror_mode": {
    "name": "ipython",
    "version": 3
   },
   "file_extension": ".py",
   "mimetype": "text/x-python",
   "name": "python",
   "nbconvert_exporter": "python",
   "pygments_lexer": "ipython3",
   "version": "3.10.8"
  }
 },
 "nbformat": 4,
 "nbformat_minor": 5
}
